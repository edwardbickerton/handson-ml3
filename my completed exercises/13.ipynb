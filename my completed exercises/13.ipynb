{
 "cells": [
  {
   "cell_type": "markdown",
   "metadata": {},
   "source": [
    "# Chapter 13: Loading and Preprocessing Data with TensorFlow"
   ]
  },
  {
   "cell_type": "code",
   "execution_count": 1,
   "metadata": {},
   "outputs": [],
   "source": [
    "import tensorflow as tf\n",
    "import tensorflow_datasets as tfds\n",
    "from pathlib import Path\n",
    "from functools import partial\n",
    "from time import strftime\n",
    "import numpy as np\n",
    "import pandas as pd\n",
    "from collections import Counter\n",
    "import re\n",
    "import matplotlib.pyplot as plt"
   ]
  },
  {
   "cell_type": "markdown",
   "metadata": {},
   "source": [
    "1. The `tf.data` API is useful for reading in data gradually from your hard drive and preprocessing data, it revolves around `tf.data.Dataset` which represents a sequence of data items.\n",
    "\n",
    "2. Splitting the data across multiple files can help with shuffling the data, `tf.data.Dataset.list_files()` automatically shuffles the file paths and the `.interleave()` method with argument `cycle_length > 1` will read from multiple files simultaneously. It can also improve performance, setting `num_parallel_calls=tf.data.AUTOTUNE` TensorFlow will choose the right number of threads dynamically based on the available CPU.\n",
    "\n",
    "3. During training if your GPU utilization is very low, the input pipeline might be the bottleneck. You should call `.prefetch()` so that the dataset has a set number of batches ready to go in memory, or if the whole dataset can fit in memory, call `.cache()` after loading and preprocessing the data, but before shuffling, repeating, batching, and prefetching. Other approaches:\n",
    "    * read and preprocess the data with multiple threads in parallel,\n",
    "    * make sure your preprocessing code is optimized,\n",
    "    * save the dataset into multiple TFRecord files,\n",
    "    * if necessary perform some of the preprocessing ahead of time so that it does not need to be done on the fly during training (TF Transform can help with this), &\n",
    "    * if necessary, use a machine with more CPU and RAM, and ensure that the GPU bandwidth is large enough.\n",
    "\n",
    "4. You can save any binary data to a TFRecord file, however in practice *protobufs* are used.\n",
    "\n",
    "5. The `Example` protobuf format has the advantage that TensorFlow provides some operations to parse it (the `tf.io.parse`*`example()` functions) without you having to define your own format. It is sufficiently flexible to represent instances in most datasets.\n",
    "\n",
    "6. Compressing TFRecord files is useful if they need to be loaded via a network connection, e.g. from AWS S3. However, you shouldn't do this if you don't need to as decompressing the files could slow down training.\n",
    "\n",
    "7. Data preprocessing can take place in three ways:\n",
    "    1. when writing the data files\n",
    "        * **pros:** this will speed up training, the training data may also take up less space e.g. you apply dimensionality reduction\n",
    "        * **cons:** however you must make sure you apply the same preprocessing steps in production, its also not easy to try out different preprocessing steps, also not good for data augmentation\n",
    "    2. within the `tf.data` pipeline\n",
    "        * **pros:** its much easier to experiment with preprocessing steps & data augmentation, multithreading and prefetching can make it very efficient, you can use preprocessing layers in your `tf.data` pipeline and then reuse these layers when deploying your model to production\n",
    "        * **cons:** it will still slow down training, each instance will be preprocessed once per epoch (unless you can use `.cache`), must remember to apply the same preprocessing steps in production\n",
    "    3. preprocessing layers of your model\n",
    "        * **pros:** this is good for inference, as your model will be able to handle raw data, you will not run the risk of mismatch between your training preprocessing & inference preprocessing\n",
    "        * **cons:** it will slow down training, with each instance being processed multiple times\n",
    "\n",
    "8. Categorical features can be encoded using integers if there is a natural ordering or one-hot encoding. For text, where each token is a category, you have far too many categories to use one-hot so embeddings make much more sense."
   ]
  },
  {
   "cell_type": "markdown",
   "metadata": {},
   "source": [
    "## 9. Fashion MNIST data pipeline"
   ]
  },
  {
   "cell_type": "markdown",
   "metadata": {},
   "source": [
    "9.a. Writing the data."
   ]
  },
  {
   "cell_type": "code",
   "execution_count": 2,
   "metadata": {},
   "outputs": [
    {
     "name": "stdout",
     "output_type": "stream",
     "text": [
      "Skipping train_set as directory is not empty.\n",
      "Skipping valid_set as directory is not empty.\n",
      "Skipping test_set as directory is not empty.\n"
     ]
    }
   ],
   "source": [
    "(X_train, y_train), (X_test, y_test) = tf.keras.datasets.fashion_mnist.load_data()\n",
    "class_labels = (\n",
    "    \"T-shirt/top\",\n",
    "    \"Trouser\",\n",
    "    \"Pullover\",\n",
    "    \"Dress\",\n",
    "    \"Coat\",\n",
    "    \"Sandal\",\n",
    "    \"Shirt\",\n",
    "    \"Sneaker\",\n",
    "    \"Bag\",\n",
    "    \"Ankle boot\",\n",
    ")\n",
    "\n",
    "\n",
    "train_set = tf.data.Dataset.from_tensor_slices((X_train, y_train)).shuffle(\n",
    "    buffer_size=60_000\n",
    ")\n",
    "test_set = tf.data.Dataset.from_tensor_slices((X_test, y_test))\n",
    "\n",
    "valid_size = 2048\n",
    "\n",
    "valid_set = train_set.take(valid_size)\n",
    "train_set = train_set.skip(valid_size)\n",
    "\n",
    "\n",
    "def serialize(image, label):\n",
    "    image_data = tf.io.serialize_tensor(image)\n",
    "    protobuf_example = tf.train.Example(\n",
    "        features=tf.train.Features(\n",
    "            feature={\n",
    "                \"image\": tf.train.Feature(\n",
    "                    bytes_list=tf.train.BytesList(value=[image_data.numpy()])\n",
    "                ),\n",
    "                \"label\": tf.train.Feature(int64_list=tf.train.Int64List(value=[label])),\n",
    "            }\n",
    "        )\n",
    "    )\n",
    "    return protobuf_example.SerializeToString()\n",
    "\n",
    "\n",
    "data_dir = Path(\"datasets/13/fashion_mnist\")\n",
    "num_shards = 5\n",
    "\n",
    "datasets = {\n",
    "    \"train_set\": train_set,\n",
    "    \"valid_set\": valid_set,\n",
    "    \"test_set\": test_set,\n",
    "}\n",
    "\n",
    "file_paths = dict()\n",
    "for dataset_name, dataset in datasets.items():\n",
    "\n",
    "    dataset_dir = data_dir / dataset_name\n",
    "    dataset_dir.mkdir(parents=True, exist_ok=True)\n",
    "\n",
    "    file_paths[dataset_name] = [\n",
    "        str(dataset_dir / f\"{dataset_name}-{i}-of-{num_shards}.tfrecord\")\n",
    "        for i in range(1, num_shards + 1)\n",
    "    ]\n",
    "\n",
    "    if not any(dataset_dir.iterdir()):\n",
    "        writers = [\n",
    "            tf.io.TFRecordWriter(file_path) for file_path in file_paths[dataset_name]\n",
    "        ]\n",
    "\n",
    "        for i, (image, label) in dataset.enumerate():\n",
    "            writers[i % num_shards].write(serialize(image, label))\n",
    "\n",
    "        for writer in writers:\n",
    "            writer.close()\n",
    "    else:\n",
    "        print(f\"Skipping {dataset_name} as directory is not empty.\")\n",
    "\n",
    "del (\n",
    "    X_test,\n",
    "    y_test,\n",
    "    y_train,\n",
    "    test_set,\n",
    "    train_set,\n",
    "    valid_set,\n",
    "    data_dir,\n",
    "    dataset,\n",
    "    dataset_dir,\n",
    "    dataset_name,\n",
    "    datasets,\n",
    ")"
   ]
  },
  {
   "cell_type": "code",
   "execution_count": 3,
   "metadata": {},
   "outputs": [],
   "source": [
    "def parse(serialized_example):\n",
    "\n",
    "    feature_description = {\n",
    "        \"image\": tf.io.FixedLenFeature([], tf.string),\n",
    "        \"label\": tf.io.FixedLenFeature([], tf.int64),\n",
    "    }\n",
    "\n",
    "    protobuf_example = tf.io.parse_single_example(\n",
    "        serialized_example, feature_description\n",
    "    )\n",
    "\n",
    "    return (\n",
    "        tf.io.parse_tensor(protobuf_example[\"image\"], out_type=tf.uint8),\n",
    "        tf.cast(protobuf_example[\"label\"], tf.uint8),\n",
    "    )\n",
    "\n",
    "\n",
    "norm_layer = tf.keras.layers.Normalization()\n",
    "norm_layer.adapt(X_train)\n",
    "\n",
    "\n",
    "def preprocess(X, y):\n",
    "    return tf.reshape(norm_layer(X), (28, 28, 1)), y\n",
    "\n",
    "\n",
    "def get_dataset(dataset_name, shuffle=False, sample=None):\n",
    "    dataset = (\n",
    "        tf.data.TFRecordDataset(file_paths[dataset_name], num_parallel_reads=num_shards)\n",
    "        .map(parse, num_parallel_calls=tf.data.AUTOTUNE)\n",
    "        .map(preprocess, num_parallel_calls=tf.data.AUTOTUNE)\n",
    "        .cache()\n",
    "    )\n",
    "\n",
    "    if shuffle:\n",
    "        dataset = dataset.shuffle(60_000 - valid_size)\n",
    "\n",
    "    if sample:\n",
    "        dataset = dataset.take(sample)\n",
    "\n",
    "    return dataset.batch(32).prefetch(tf.data.AUTOTUNE)\n",
    "\n",
    "\n",
    "train_dataset = get_dataset(\"train_set\", shuffle=True, sample=4096)\n",
    "valid_dataset = get_dataset(\"valid_set\")\n",
    "test_dataset = get_dataset(\"test_set\")"
   ]
  },
  {
   "cell_type": "code",
   "execution_count": 4,
   "metadata": {},
   "outputs": [
    {
     "name": "stdout",
     "output_type": "stream",
     "text": [
      "Epoch 1/100\n"
     ]
    },
    {
     "name": "stderr",
     "output_type": "stream",
     "text": [
      "2025-02-05 21:11:25.832909: I tensorflow/tsl/profiler/lib/profiler_session.cc:104] Profiler session initializing.\n",
      "2025-02-05 21:11:25.832923: I tensorflow/tsl/profiler/lib/profiler_session.cc:119] Profiler session started.\n",
      "2025-02-05 21:11:25.832953: I tensorflow/tsl/profiler/lib/profiler_session.cc:131] Profiler session tear down.\n"
     ]
    },
    {
     "name": "stdout",
     "output_type": "stream",
     "text": [
      "     20/Unknown - 7s 171ms/step - loss: 2.8020 - accuracy: 0.1750"
     ]
    },
    {
     "name": "stderr",
     "output_type": "stream",
     "text": [
      "2025-02-05 21:11:32.885238: I tensorflow/tsl/profiler/lib/profiler_session.cc:104] Profiler session initializing.\n",
      "2025-02-05 21:11:32.885266: I tensorflow/tsl/profiler/lib/profiler_session.cc:119] Profiler session started.\n"
     ]
    },
    {
     "name": "stdout",
     "output_type": "stream",
     "text": [
      "    119/Unknown - 24s 167ms/step - loss: 1.8925 - accuracy: 0.3474"
     ]
    },
    {
     "name": "stderr",
     "output_type": "stream",
     "text": [
      "2025-02-05 21:11:49.689316: I tensorflow/tsl/profiler/lib/profiler_session.cc:70] Profiler session collecting data.\n"
     ]
    },
    {
     "name": "stdout",
     "output_type": "stream",
     "text": [
      "    121/Unknown - 25s 174ms/step - loss: 1.8839 - accuracy: 0.3505"
     ]
    },
    {
     "name": "stderr",
     "output_type": "stream",
     "text": [
      "2025-02-05 21:11:50.497727: I tensorflow/tsl/profiler/lib/profiler_session.cc:131] Profiler session tear down.\n",
      "2025-02-05 21:11:50.501520: I tensorflow/tsl/profiler/rpc/client/save_profile.cc:144] Collecting XSpace to repository: models/TensorBoard/13/run_2025_02_05_21_11_25/plugins/profile/2025_02_05_21_11_50/Edwards-MacBook-Air.local.xplane.pb\n"
     ]
    },
    {
     "name": "stdout",
     "output_type": "stream",
     "text": [
      "128/128 [==============================] - 39s 275ms/step - loss: 1.8577 - accuracy: 0.3569 - val_loss: 1.0060 - val_accuracy: 0.6987\n",
      "Epoch 2/100\n",
      "128/128 [==============================] - 32s 254ms/step - loss: 1.1666 - accuracy: 0.5859 - val_loss: 0.6669 - val_accuracy: 0.7613\n",
      "Epoch 3/100\n",
      "128/128 [==============================] - 33s 259ms/step - loss: 0.9402 - accuracy: 0.6707 - val_loss: 0.6027 - val_accuracy: 0.7829\n",
      "Epoch 4/100\n",
      "128/128 [==============================] - 31s 245ms/step - loss: 0.8095 - accuracy: 0.7148 - val_loss: 0.5038 - val_accuracy: 0.8144\n",
      "Epoch 5/100\n",
      "128/128 [==============================] - 32s 248ms/step - loss: 0.7054 - accuracy: 0.7502 - val_loss: 0.4859 - val_accuracy: 0.8356\n",
      "Epoch 6/100\n",
      "128/128 [==============================] - 32s 251ms/step - loss: 0.6923 - accuracy: 0.7656 - val_loss: 0.4559 - val_accuracy: 0.8382\n",
      "Epoch 7/100\n",
      "128/128 [==============================] - 32s 253ms/step - loss: 0.6075 - accuracy: 0.7861 - val_loss: 0.4313 - val_accuracy: 0.8437\n",
      "Epoch 8/100\n",
      "128/128 [==============================] - 32s 251ms/step - loss: 0.5882 - accuracy: 0.8054 - val_loss: 0.4133 - val_accuracy: 0.8539\n",
      "Epoch 9/100\n",
      "128/128 [==============================] - 32s 248ms/step - loss: 0.5589 - accuracy: 0.8157 - val_loss: 0.3904 - val_accuracy: 0.8627\n",
      "Epoch 10/100\n",
      "128/128 [==============================] - 32s 248ms/step - loss: 0.5281 - accuracy: 0.8240 - val_loss: 0.4181 - val_accuracy: 0.8563\n",
      "Epoch 11/100\n",
      "128/128 [==============================] - 32s 249ms/step - loss: 0.5441 - accuracy: 0.8201 - val_loss: 0.4132 - val_accuracy: 0.8598\n",
      "Epoch 12/100\n",
      "128/128 [==============================] - 32s 251ms/step - loss: 0.5129 - accuracy: 0.8308 - val_loss: 0.3778 - val_accuracy: 0.8602\n",
      "Epoch 13/100\n",
      "128/128 [==============================] - 32s 251ms/step - loss: 0.4852 - accuracy: 0.8369 - val_loss: 0.3538 - val_accuracy: 0.8689\n",
      "Epoch 14/100\n",
      "128/128 [==============================] - 32s 249ms/step - loss: 0.4727 - accuracy: 0.8413 - val_loss: 0.3447 - val_accuracy: 0.8753\n",
      "Epoch 15/100\n",
      "128/128 [==============================] - 32s 250ms/step - loss: 0.4550 - accuracy: 0.8506 - val_loss: 0.3460 - val_accuracy: 0.8714\n",
      "Epoch 16/100\n",
      "128/128 [==============================] - 32s 252ms/step - loss: 0.4708 - accuracy: 0.8411 - val_loss: 0.3505 - val_accuracy: 0.8717\n",
      "Epoch 17/100\n",
      "128/128 [==============================] - 32s 254ms/step - loss: 0.4336 - accuracy: 0.8511 - val_loss: 0.3637 - val_accuracy: 0.8628\n",
      "Epoch 18/100\n",
      "128/128 [==============================] - 32s 252ms/step - loss: 0.4350 - accuracy: 0.8491 - val_loss: 0.3226 - val_accuracy: 0.8776\n",
      "Epoch 19/100\n",
      "128/128 [==============================] - 32s 251ms/step - loss: 0.4264 - accuracy: 0.8560 - val_loss: 0.3220 - val_accuracy: 0.8795\n",
      "Epoch 20/100\n",
      "128/128 [==============================] - 32s 253ms/step - loss: 0.4410 - accuracy: 0.8538 - val_loss: 0.3233 - val_accuracy: 0.8824\n",
      "Epoch 21/100\n",
      "128/128 [==============================] - 32s 251ms/step - loss: 0.4320 - accuracy: 0.8494 - val_loss: 0.3255 - val_accuracy: 0.8726\n",
      "Epoch 22/100\n",
      "128/128 [==============================] - 32s 253ms/step - loss: 0.4287 - accuracy: 0.8613 - val_loss: 0.3399 - val_accuracy: 0.8759\n",
      "Epoch 23/100\n",
      "128/128 [==============================] - 32s 250ms/step - loss: 0.4068 - accuracy: 0.8655 - val_loss: 0.3688 - val_accuracy: 0.8608\n",
      "Epoch 24/100\n",
      "128/128 [==============================] - ETA: 0s - loss: 0.4173 - accuracy: 0.8643Restoring model weights from the end of the best epoch: 19.\n",
      "128/128 [==============================] - 32s 254ms/step - loss: 0.4173 - accuracy: 0.8643 - val_loss: 0.3344 - val_accuracy: 0.8737\n",
      "Epoch 24: early stopping\n"
     ]
    }
   ],
   "source": [
    "DefaultConv2D = partial(\n",
    "    tf.keras.layers.Conv2D,\n",
    "    kernel_size=3,\n",
    "    padding=\"same\",\n",
    "    activation=\"relu\",\n",
    "    kernel_initializer=\"he_normal\",\n",
    ")\n",
    "\n",
    "model = tf.keras.Sequential(\n",
    "    [\n",
    "        tf.keras.layers.Input(shape=(28, 28, 1)),\n",
    "        DefaultConv2D(filters=64, kernel_size=7),\n",
    "        tf.keras.layers.MaxPool2D(),\n",
    "        DefaultConv2D(filters=128),\n",
    "        DefaultConv2D(filters=128),\n",
    "        tf.keras.layers.MaxPool2D(),\n",
    "        DefaultConv2D(filters=256),\n",
    "        DefaultConv2D(filters=256),\n",
    "        tf.keras.layers.MaxPool2D(),\n",
    "        tf.keras.layers.Flatten(),\n",
    "        tf.keras.layers.Dense(\n",
    "            units=128, activation=\"relu\", kernel_initializer=\"he_normal\"\n",
    "        ),\n",
    "        tf.keras.layers.Dropout(0.5),\n",
    "        tf.keras.layers.Dense(\n",
    "            units=64, activation=\"relu\", kernel_initializer=\"he_normal\"\n",
    "        ),\n",
    "        tf.keras.layers.Dropout(0.5),\n",
    "        tf.keras.layers.Dense(units=10, activation=\"softmax\"),\n",
    "    ]\n",
    ")\n",
    "\n",
    "model.compile(\n",
    "    loss=\"sparse_categorical_crossentropy\", optimizer=\"nadam\", metrics=[\"accuracy\"]\n",
    ")\n",
    "\n",
    "history = model.fit(\n",
    "    train_dataset,\n",
    "    epochs=100,\n",
    "    validation_data=valid_dataset,\n",
    "    callbacks=[\n",
    "        tf.keras.callbacks.EarlyStopping(\n",
    "            patience=5, restore_best_weights=True, verbose=1\n",
    "        ),\n",
    "        tf.keras.callbacks.TensorBoard(\n",
    "            f\"models/TensorBoard/13/{strftime('run_%Y_%m_%d_%H_%M_%S')}\",\n",
    "            profile_batch=\"20,120\",\n",
    "        ),\n",
    "    ],\n",
    ")"
   ]
  },
  {
   "cell_type": "markdown",
   "metadata": {},
   "source": [
    "## 10. Binary classification of the [Large Movie Review Dataset](https://homl.info/imdb)"
   ]
  },
  {
   "cell_type": "markdown",
   "metadata": {},
   "source": [
    "Creating a function that parses a single file."
   ]
  },
  {
   "cell_type": "code",
   "execution_count": 5,
   "metadata": {},
   "outputs": [],
   "source": [
    "data_dir = Path(\"datasets/13/aclImdb\")\n",
    "\n",
    "\n",
    "def parse(file_path):\n",
    "    content = tf.io.read_file(file_path)\n",
    "\n",
    "    label = tf.strings.regex_replace(file_path, \".*/(pos|neg)/.*\", \"\\\\1\")\n",
    "    label = tf.cast(tf.equal(label, \"pos\"), tf.int32)\n",
    "\n",
    "    return content, label"
   ]
  },
  {
   "cell_type": "markdown",
   "metadata": {},
   "source": [
    "Doing some basic analysis of the text data."
   ]
  },
  {
   "cell_type": "code",
   "execution_count": 6,
   "metadata": {},
   "outputs": [],
   "source": [
    "train_text = (\n",
    "    tf.data.Dataset.list_files(\n",
    "        [str(data_dir / f\"train/{class_}/*\") for class_ in [\"pos\", \"neg\"]]\n",
    "    )\n",
    "    .map(lambda file_path: parse(file_path)[0], num_parallel_calls=tf.data.AUTOTUNE)\n",
    "    .batch(32)\n",
    "    .prefetch(tf.data.AUTOTUNE)\n",
    ")"
   ]
  },
  {
   "cell_type": "markdown",
   "metadata": {},
   "source": [
    "It makes sense to set `output_sequence_length=512` in the `TextVectorization` preprocessing layer since many reviews are shorter than this."
   ]
  },
  {
   "cell_type": "code",
   "execution_count": 7,
   "metadata": {},
   "outputs": [
    {
     "data": {
      "text/plain": [
       "count    25000.000000\n",
       "mean       233.776720\n",
       "std        173.715418\n",
       "min         10.000000\n",
       "50%        174.000000\n",
       "90%        458.000000\n",
       "max       2470.000000\n",
       "dtype: float64"
      ]
     },
     "execution_count": 7,
     "metadata": {},
     "output_type": "execute_result"
    }
   ],
   "source": [
    "lengths = []\n",
    "\n",
    "for text_batch in train_text:\n",
    "    for text in text_batch:\n",
    "        num_words = len(str(text.numpy()).split())\n",
    "        lengths.append(num_words)\n",
    "\n",
    "pd.Series(lengths).describe(percentiles=[0.5, 0.9])"
   ]
  },
  {
   "cell_type": "markdown",
   "metadata": {},
   "source": [
    "Determining a good vocabulary size (only the most frequent `max_tokens` will be kept)"
   ]
  },
  {
   "cell_type": "code",
   "execution_count": 8,
   "metadata": {},
   "outputs": [
    {
     "data": {
      "text/plain": [
       "121894"
      ]
     },
     "execution_count": 8,
     "metadata": {},
     "output_type": "execute_result"
    }
   ],
   "source": [
    "text_vec_layer = tf.keras.layers.TextVectorization(\n",
    "    standardize=\"lower_and_strip_punctuation\"\n",
    ")\n",
    "text_vec_layer.adapt(train_text)\n",
    "\n",
    "vocab_size = len(text_vec_layer.get_vocabulary())\n",
    "vocab_size"
   ]
  },
  {
   "cell_type": "code",
   "execution_count": 9,
   "metadata": {},
   "outputs": [],
   "source": [
    "token_counts = Counter()\n",
    "\n",
    "for text_batch in train_text:\n",
    "    for text in text_batch:\n",
    "        standardized_text = re.sub(r\"[^\\w\\s]\", \"\", text.numpy().decode(\"utf-8\").lower())\n",
    "        tokens = str(standardized_text).split()\n",
    "        token_counts.update(tokens)\n",
    "\n",
    "token_counts_df = pd.DataFrame(\n",
    "    list(token_counts.items()), columns=[\"token\", \"count\"]\n",
    ").sort_values(by=\"count\", ascending=False, ignore_index=True)"
   ]
  },
  {
   "cell_type": "markdown",
   "metadata": {},
   "source": [
    "At least half of the tokens only appear once in the training text and 90% of the tokens appear $\\leq$ 23 times, which makes training an embedding for them difficult, therefore it makes sense to clip the vocab to 10,000 of the most frequent tokens out of the ~120,000 total token size.\n",
    "\n",
    "i.e. setting `max_tokens=10_000` in my `TextVectorization` layer."
   ]
  },
  {
   "cell_type": "code",
   "execution_count": 10,
   "metadata": {},
   "outputs": [
    {
     "data": {
      "text/plain": [
       "count    121045.000000\n",
       "mean         48.083919\n",
       "std        1539.305968\n",
       "min           1.000000\n",
       "50%           1.000000\n",
       "90%          23.000000\n",
       "max      334706.000000\n",
       "Name: count, dtype: float64"
      ]
     },
     "execution_count": 10,
     "metadata": {},
     "output_type": "execute_result"
    }
   ],
   "source": [
    "token_counts_df[\"count\"].describe(percentiles=[0.5, 0.9])"
   ]
  },
  {
   "cell_type": "code",
   "execution_count": 11,
   "metadata": {},
   "outputs": [],
   "source": [
    "text_vec_layer = tf.keras.layers.TextVectorization(\n",
    "    output_sequence_length=512,\n",
    "    max_tokens=10_000,\n",
    "    standardize=\"lower_and_strip_punctuation\",\n",
    ")\n",
    "\n",
    "\n",
    "text_vec_layer.adapt(train_text)"
   ]
  },
  {
   "cell_type": "markdown",
   "metadata": {},
   "source": [
    "Creating train, test, & validation datasets."
   ]
  },
  {
   "cell_type": "code",
   "execution_count": 12,
   "metadata": {},
   "outputs": [],
   "source": [
    "def get_movie_dataset(train=False):\n",
    "    file_paths = [\n",
    "        str(data_dir / f\"{'train' if train else 'test'}/{class_}/*\")\n",
    "        for class_ in [\"pos\", \"neg\"]\n",
    "    ]\n",
    "    return (\n",
    "        tf.data.Dataset.list_files(file_paths, shuffle=True)\n",
    "        .map(parse, num_parallel_calls=tf.data.AUTOTUNE)\n",
    "        .map(\n",
    "            lambda text, label: (text_vec_layer(text), label),\n",
    "            num_parallel_calls=tf.data.AUTOTUNE,\n",
    "        )\n",
    "        .cache()\n",
    "        .shuffle(25_000)\n",
    "    )\n",
    "\n",
    "\n",
    "train_dataset = get_movie_dataset(train=True).batch(32).prefetch(tf.data.AUTOTUNE)\n",
    "test_dataset = get_movie_dataset()\n",
    "valid_dataset = test_dataset.take(15_000).batch(32).prefetch(tf.data.AUTOTUNE)\n",
    "test_dataset = test_dataset.skip(15_000).batch(32).prefetch(tf.data.AUTOTUNE)"
   ]
  },
  {
   "cell_type": "code",
   "execution_count": 13,
   "metadata": {},
   "outputs": [
    {
     "data": {
      "text/plain": [
       "(<tf.Tensor: shape=(32, 512), dtype=int64, numpy=\n",
       " array([[  85,  111,  773, ...,    0,    0,    0],\n",
       "        [  10,  208,   11, ...,    0,    0,    0],\n",
       "        [ 450,  877,    2, ...,    0,    0,    0],\n",
       "        ...,\n",
       "        [ 132,    7,    2, ...,    0,    0,    0],\n",
       "        [  10,  208,   11, ...,    0,    0,    0],\n",
       "        [3726,   84,  112, ...,    0,    0,    0]])>,\n",
       " <tf.Tensor: shape=(32,), dtype=int32, numpy=\n",
       " array([1, 1, 1, 0, 1, 0, 1, 0, 0, 1, 0, 1, 0, 0, 1, 0, 1, 1, 0, 0, 0, 1,\n",
       "        0, 1, 0, 1, 1, 1, 1, 1, 1, 0], dtype=int32)>)"
      ]
     },
     "execution_count": 13,
     "metadata": {},
     "output_type": "execute_result"
    }
   ],
   "source": [
    "next(iter(train_dataset))"
   ]
  },
  {
   "cell_type": "markdown",
   "metadata": {},
   "source": [
    "Creating a model with an `Embedding` layer & then makes predictions based on the mean embedding of the review."
   ]
  },
  {
   "cell_type": "code",
   "execution_count": 14,
   "metadata": {},
   "outputs": [
    {
     "name": "stdout",
     "output_type": "stream",
     "text": [
      "Model: \"sequential\"\n",
      "_________________________________________________________________\n",
      " Layer (type)                Output Shape              Param #   \n",
      "=================================================================\n",
      " embedding (Embedding)       (None, 512, 500)          5000000   \n",
      "                                                                 \n",
      " lambda (Lambda)             (None, 500)               0         \n",
      "                                                                 \n",
      " dense (Dense)               (None, 100)               50100     \n",
      "                                                                 \n",
      " dense_1 (Dense)             (None, 100)               10100     \n",
      "                                                                 \n",
      " dense_2 (Dense)             (None, 100)               10100     \n",
      "                                                                 \n",
      " dense_3 (Dense)             (None, 100)               10100     \n",
      "                                                                 \n",
      " dense_4 (Dense)             (None, 100)               10100     \n",
      "                                                                 \n",
      " dense_5 (Dense)             (None, 1)                 101       \n",
      "                                                                 \n",
      "=================================================================\n",
      "Total params: 5090601 (19.42 MB)\n",
      "Trainable params: 5090601 (19.42 MB)\n",
      "Non-trainable params: 0 (0.00 Byte)\n",
      "_________________________________________________________________\n"
     ]
    }
   ],
   "source": [
    "tf.keras.backend.clear_session()\n",
    "\n",
    "\n",
    "def make_text_model():\n",
    "    model = tf.keras.Sequential(\n",
    "        [\n",
    "            tf.keras.layers.Input(shape=(512)),\n",
    "            tf.keras.layers.Embedding(\n",
    "                input_dim=text_vec_layer.vocabulary_size(),\n",
    "                output_dim=500,\n",
    "                mask_zero=True,\n",
    "            ),\n",
    "            tf.keras.layers.Lambda(lambda x: tf.reduce_mean(x, axis=1)),\n",
    "        ]\n",
    "    )\n",
    "\n",
    "    for _ in range(5):\n",
    "        model.add(\n",
    "            tf.keras.layers.Dense(\n",
    "                100, activation=\"relu\", kernel_initializer=\"he_normal\"\n",
    "            )\n",
    "        )\n",
    "\n",
    "    model.add(tf.keras.layers.Dense(1, activation=\"sigmoid\"))\n",
    "    model.compile(loss=\"binary_crossentropy\", optimizer=\"nadam\", metrics=[\"accuracy\"])\n",
    "\n",
    "    return model\n",
    "\n",
    "\n",
    "model = make_text_model()\n",
    "model.summary()"
   ]
  },
  {
   "cell_type": "code",
   "execution_count": 15,
   "metadata": {},
   "outputs": [
    {
     "name": "stdout",
     "output_type": "stream",
     "text": [
      "\n",
      "Reached end learning rate, stopping training\n",
      "Learning rate of minimum loss: 0.0015794261715328444\n"
     ]
    }
   ],
   "source": [
    "class ExponentialLearningRate(tf.keras.callbacks.Callback):\n",
    "    def __init__(self, starting_lr, end_lr, n_iter):\n",
    "        self.factor = (end_lr / starting_lr) ** (1 / n_iter)\n",
    "        self.starting_lr = starting_lr\n",
    "        self.end_lr = end_lr\n",
    "        self.learning_rates = []\n",
    "        self.losses = []\n",
    "\n",
    "    def on_train_begin(self, logs=None):\n",
    "        self.model.optimizer.learning_rate = self.starting_lr\n",
    "\n",
    "    def on_train_batch_end(self, batch, logs=None):\n",
    "        lr = self.model.optimizer.learning_rate.numpy() * self.factor\n",
    "        if lr > self.end_lr:\n",
    "            print(\n",
    "                \"\\nReached end learning rate, stopping training\",\n",
    "                f\"Learning rate of minimum loss: {self.learning_rates[np.argmin(self.losses)]}\",\n",
    "                sep=\"\\n\",\n",
    "            )\n",
    "            self.model.stop_training = True\n",
    "\n",
    "        self.model.optimizer.learning_rate = lr\n",
    "        self.learning_rates.append(lr)\n",
    "        self.losses.append(logs[\"loss\"])\n",
    "\n",
    "\n",
    "model = make_text_model()\n",
    "exponential__learning_rate_cb = ExponentialLearningRate(1e-4, 1e-1, 2000)\n",
    "\n",
    "history = model.fit(\n",
    "    train_dataset,\n",
    "    epochs=100,\n",
    "    callbacks=[exponential__learning_rate_cb],\n",
    "    verbose=0,\n",
    ")"
   ]
  },
  {
   "cell_type": "code",
   "execution_count": 16,
   "metadata": {},
   "outputs": [
    {
     "data": {
      "image/png": "[encoded data removed]",
      "text/plain": [
       "<Figure size 640x480 with 1 Axes>"
      ]
     },
     "metadata": {},
     "output_type": "display_data"
    }
   ],
   "source": [
    "fig, ax = plt.subplots()\n",
    "\n",
    "ax.plot(\n",
    "    exponential__learning_rate_cb.learning_rates,\n",
    "    exponential__learning_rate_cb.losses,\n",
    ")\n",
    "ax.set_xscale(\"log\")\n",
    "ax.set_xlabel(\"Learning Rate\")\n",
    "ax.set_ylabel(\"Loss\")\n",
    "ax.set_ylim(0.29, 0.69)\n",
    "ax.grid(True)"
   ]
  },
  {
   "cell_type": "code",
   "execution_count": 17,
   "metadata": {},
   "outputs": [
    {
     "name": "stdout",
     "output_type": "stream",
     "text": [
      "Epoch 1/100\n"
     ]
    },
    {
     "name": "stderr",
     "output_type": "stream",
     "text": [
      "2025-02-05 21:25:24.741083: I tensorflow/tsl/profiler/lib/profiler_session.cc:104] Profiler session initializing.\n",
      "2025-02-05 21:25:24.741100: I tensorflow/tsl/profiler/lib/profiler_session.cc:119] Profiler session started.\n",
      "2025-02-05 21:25:24.741118: I tensorflow/tsl/profiler/lib/profiler_session.cc:131] Profiler session tear down.\n"
     ]
    },
    {
     "name": "stdout",
     "output_type": "stream",
     "text": [
      "655/782 [========================>.....] - ETA: 3s - loss: 0.4245 - accuracy: 0.7863"
     ]
    },
    {
     "name": "stderr",
     "output_type": "stream",
     "text": [
      "2025-02-05 21:25:41.988748: I tensorflow/tsl/profiler/lib/profiler_session.cc:104] Profiler session initializing.\n",
      "2025-02-05 21:25:41.988767: I tensorflow/tsl/profiler/lib/profiler_session.cc:119] Profiler session started.\n"
     ]
    },
    {
     "name": "stdout",
     "output_type": "stream",
     "text": [
      "706/782 [==========================>...] - ETA: 2s - loss: 0.4174 - accuracy: 0.7916"
     ]
    },
    {
     "name": "stderr",
     "output_type": "stream",
     "text": [
      "2025-02-05 21:25:45.485244: I tensorflow/tsl/profiler/lib/profiler_session.cc:70] Profiler session collecting data.\n",
      "2025-02-05 21:25:45.510042: I tensorflow/tsl/profiler/lib/profiler_session.cc:131] Profiler session tear down.\n",
      "2025-02-05 21:25:45.510435: I tensorflow/tsl/profiler/rpc/client/save_profile.cc:144] Collecting XSpace to repository: models/TensorBoard/13/run_2025_02_05_21_25_24/plugins/profile/2025_02_05_21_25_45/Edwards-MacBook-Air.local.xplane.pb\n"
     ]
    },
    {
     "name": "stdout",
     "output_type": "stream",
     "text": [
      "782/782 [==============================] - 27s 33ms/step - loss: 0.4055 - accuracy: 0.7996 - val_loss: 0.3555 - val_accuracy: 0.8383\n",
      "Epoch 2/100\n",
      "782/782 [==============================] - 21s 26ms/step - loss: 0.2377 - accuracy: 0.9048 - val_loss: 0.2855 - val_accuracy: 0.8846\n",
      "Epoch 3/100\n",
      "782/782 [==============================] - 21s 26ms/step - loss: 0.1878 - accuracy: 0.9258 - val_loss: 0.3434 - val_accuracy: 0.8501\n",
      "Epoch 4/100\n",
      "782/782 [==============================] - 21s 26ms/step - loss: 0.1492 - accuracy: 0.9426 - val_loss: 0.3915 - val_accuracy: 0.8566\n",
      "Epoch 5/100\n",
      "782/782 [==============================] - 21s 27ms/step - loss: 0.1151 - accuracy: 0.9547 - val_loss: 0.5139 - val_accuracy: 0.8556\n",
      "Epoch 6/100\n",
      "782/782 [==============================] - 21s 27ms/step - loss: 0.0919 - accuracy: 0.9639 - val_loss: 0.4586 - val_accuracy: 0.8671\n",
      "Epoch 7/100\n",
      "781/782 [============================>.] - ETA: 0s - loss: 0.0762 - accuracy: 0.9694Restoring model weights from the end of the best epoch: 2.\n",
      "782/782 [==============================] - 21s 27ms/step - loss: 0.0762 - accuracy: 0.9694 - val_loss: 0.5357 - val_accuracy: 0.8587\n",
      "Epoch 7: early stopping\n"
     ]
    }
   ],
   "source": [
    "model = make_text_model()\n",
    "model.optimizer.learning_rate = 1.5e-3 / 2\n",
    "\n",
    "history = model.fit(\n",
    "    train_dataset,\n",
    "    epochs=100,\n",
    "    validation_data=valid_dataset,\n",
    "    callbacks=[\n",
    "        tf.keras.callbacks.EarlyStopping(\n",
    "            patience=5, restore_best_weights=True, verbose=1\n",
    "        ),\n",
    "        tf.keras.callbacks.TensorBoard(\n",
    "            f\"models/TensorBoard/13/{strftime('run_%Y_%m_%d_%H_%M_%S')}\",\n",
    "            profile_batch=\"650,700\",\n",
    "        ),\n",
    "    ],\n",
    ")"
   ]
  },
  {
   "cell_type": "code",
   "execution_count": 20,
   "metadata": {},
   "outputs": [
    {
     "name": "stdout",
     "output_type": "stream",
     "text": [
      "tf.Tensor(b\"This was an absolutely terrible movie. Don't be lured in by Christopher Walken or Michael Ironside. Both are great actors, but this must simply be their worst role in history. Even their great acting could not redeem this movie's ridiculous storyline. This movie is an early nineties US propaganda piece. The most pathetic scenes were those when the Columbian rebels were making their cases for revolutions. Maria Conchita Alonso appeared phony, and her pseudo-love affair with Walken was nothing but a pathetic emotional plug in a movie that was devoid of any real meaning. I am disappointed that there are movies like this, ruining actor's like Christopher Walken's good name. I could barely sit through it.\", shape=(), dtype=string)\n",
      "tf.Tensor(0, shape=(), dtype=int64)\n"
     ]
    },
    {
     "name": "stderr",
     "output_type": "stream",
     "text": [
      "2025-02-05 23:01:05.009189: W tensorflow/core/kernels/data/cache_dataset_ops.cc:854] The calling iterator did not fully read the dataset being cached. In order to avoid unexpected truncation of the dataset, the partially cached contents of the dataset  will be discarded. This can happen if you have an input pipeline similar to `dataset.cache().take(k).repeat()`. You should use `dataset.take(k).cache().repeat()` instead.\n"
     ]
    }
   ],
   "source": [
    "datasets = tfds.load(name=\"imdb_reviews\")\n",
    "train_set, test_set = datasets[\"train\"], datasets[\"test\"]\n",
    "for example in train_set.take(1):\n",
    "    print(example[\"text\"])\n",
    "    print(example[\"label\"])"
   ]
  }
 ],
 "metadata": {
  "kernelspec": {
   "display_name": "homl3",
   "language": "python",
   "name": "python3"
  },
  "language_info": {
   "codemirror_mode": {
    "name": "ipython",
    "version": 3
   },
   "file_extension": ".py",
   "mimetype": "text/x-python",
   "name": "python",
   "nbconvert_exporter": "python",
   "pygments_lexer": "ipython3",
   "version": "3.10.15"
  }
 },
 "nbformat": 4,
 "nbformat_minor": 2
}
