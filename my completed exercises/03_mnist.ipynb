{
 "cells": [
  {
   "cell_type": "markdown",
   "metadata": {},
   "source": [
    "# Chapter 3: Classification\n",
    "## Ex. 1 & 2: MNIST Classification"
   ]
  },
  {
   "cell_type": "code",
   "execution_count": null,
   "metadata": {},
   "outputs": [],
   "source": [
    "import tarfile\n",
    "import urllib.request\n",
    "from pathlib import Path\n",
    "\n",
    "import joblib\n",
    "import matplotlib.pyplot as plt\n",
    "import numpy as np\n",
    "import pandas as pd\n",
    "from sklearn.calibration import cross_val_predict\n",
    "from sklearn.datasets import fetch_openml\n",
    "from sklearn.metrics import (\n",
    "    accuracy_score,\n",
    "    confusion_matrix,\n",
    "    f1_score,\n",
    "    precision_score,\n",
    "    recall_score,\n",
    ")\n",
    "from sklearn.model_selection import GridSearchCV\n",
    "from sklearn.neighbors import KNeighborsClassifier\n",
    "from sklearn.pipeline import make_pipeline\n",
    "from sklearn.preprocessing import StandardScaler\n",
    "\n",
    "plt.style.use(\"dark_background\")"
   ]
  },
  {
   "cell_type": "markdown",
   "metadata": {},
   "source": [
    "## 1. Building a classifier for the MNIST dataset that achieves over 97% accuracy"
   ]
  },
  {
   "cell_type": "code",
   "execution_count": null,
   "metadata": {},
   "outputs": [],
   "source": [
    "mnist = fetch_openml(\"mnist_784\", as_frame=False, parser=\"auto\")\n",
    "X, y = mnist.data, mnist.target\n",
    "X_train, X_test, y_train, y_test = X[:60_000], X[60_000:], y[:60_000], y[60_000:]"
   ]
  },
  {
   "cell_type": "code",
   "execution_count": null,
   "metadata": {},
   "outputs": [],
   "source": [
    "def plot_digit(image_data):\n",
    "    plt.imshow(image_data.reshape(28, 28), cmap=\"binary_r\")\n",
    "    plt.axis(\"off\")\n",
    "\n",
    "\n",
    "plt.figure()\n",
    "for idx, image_data in enumerate(X[:100]):\n",
    "    plt.subplot(10, 10, idx + 1)\n",
    "    plot_digit(image_data)\n",
    "\n",
    "plt.show()"
   ]
  },
  {
   "cell_type": "code",
   "execution_count": null,
   "metadata": {},
   "outputs": [],
   "source": [
    "model = make_pipeline(StandardScaler(), KNeighborsClassifier())\n",
    "model.get_params()"
   ]
  },
  {
   "cell_type": "code",
   "execution_count": null,
   "metadata": {},
   "outputs": [],
   "source": [
    "param_grid = {\n",
    "    \"standardscaler__with_mean\": [False],  # maintains sparsity\n",
    "    \"standardscaler__with_std\": [True, False],\n",
    "    \"kneighborsclassifier__n_neighbors\": [3, 4, 5, 6],\n",
    "    \"kneighborsclassifier__p\": [1, 2, 3],\n",
    "    \"kneighborsclassifier__weights\": [\"uniform\", \"distance\"],\n",
    "}\n",
    "\n",
    "grid_search = GridSearchCV(model, param_grid, scoring=\"accuracy\", cv=3, verbose=3)"
   ]
  },
  {
   "cell_type": "code",
   "execution_count": null,
   "metadata": {},
   "outputs": [],
   "source": [
    "model_name = \"03_mnist_grid_search\"\n",
    "model_path = Path(f\"models/{model_name}.pkl\")\n",
    "\n",
    "if model_path.is_file():\n",
    "    grid_search = joblib.load(model_path)\n",
    "else:\n",
    "    grid_search.fit(X_train[:10_000], y_train[:10_000], n_jobs=-1)\n",
    "    joblib.dump(grid_search, model_path)\n",
    "\n",
    "grid_search.best_score_"
   ]
  },
  {
   "cell_type": "code",
   "execution_count": null,
   "metadata": {},
   "outputs": [],
   "source": [
    "grid_search.best_params_"
   ]
  },
  {
   "cell_type": "code",
   "execution_count": null,
   "metadata": {},
   "outputs": [],
   "source": [
    "grid_search_cv_results = pd.DataFrame(grid_search.cv_results_)\n",
    "grid_search_cv_results.columns = grid_search_cv_results.columns.str.split(\"__\").str[-1]\n",
    "\n",
    "grid_search_cv_results = grid_search_cv_results[\n",
    "    (grid_search_cv_results[\"weights\"] == \"distance\")\n",
    "    & (grid_search_cv_results[\"with_mean\"] == False)\n",
    "    & (grid_search_cv_results[\"with_std\"] == False)\n",
    "].drop(\n",
    "    columns=[\n",
    "        \"mean_score_time\",\n",
    "        \"std_score_time\",\n",
    "        \"params\",\n",
    "        \"split0_test_score\",\n",
    "        \"split1_test_score\",\n",
    "        \"split2_test_score\",\n",
    "        \"weights\",\n",
    "        \"with_mean\",\n",
    "        \"with_std\",\n",
    "    ]\n",
    ")\n",
    "\n",
    "grid_search_cv_results.head()"
   ]
  },
  {
   "cell_type": "code",
   "execution_count": null,
   "metadata": {},
   "outputs": [],
   "source": [
    "fig, ax = plt.subplots()\n",
    "\n",
    "for p_value in reversed(grid_search_cv_results[\"p\"].unique()):\n",
    "    grid_search_cv_results[grid_search_cv_results[\"p\"] == p_value].plot(\n",
    "        x=\"n_neighbors\", y=\"mean_test_score\", ax=ax, label=f\"p = {p_value}\"\n",
    "    )\n",
    "\n",
    "plt.xlabel(\"n_neighbors\")\n",
    "plt.ylabel(\"mean_test_score\")\n",
    "plt.legend()\n",
    "plt.grid(True)\n",
    "plt.show()"
   ]
  },
  {
   "cell_type": "code",
   "execution_count": null,
   "metadata": {},
   "outputs": [],
   "source": [
    "grid_search.best_params_"
   ]
  },
  {
   "cell_type": "code",
   "execution_count": null,
   "metadata": {},
   "outputs": [],
   "source": [
    "param_grid2 = {\n",
    "    \"standardscaler__with_mean\": [False],  # maintains sparsity\n",
    "    \"standardscaler__with_std\": [False],\n",
    "    \"kneighborsclassifier__n_neighbors\": [4],\n",
    "    \"kneighborsclassifier__p\": [10, 11, 12, 13, 14],\n",
    "    \"kneighborsclassifier__weights\": [\"distance\"],\n",
    "}\n",
    "\n",
    "grid_search = GridSearchCV(model, param_grid2, scoring=\"accuracy\", cv=3, verbose=3)\n",
    "\n",
    "model_name = \"03_mnist_grid_search2\"\n",
    "model_path = Path(f\"models/{model_name}.pkl\")\n",
    "\n",
    "if model_path.is_file():\n",
    "    grid_search = joblib.load(model_path)\n",
    "else:\n",
    "    grid_search.fit(X_train[:10_000], y_train[:10_000])\n",
    "    joblib.dump(grid_search, model_path)\n",
    "\n",
    "grid_search.best_score_"
   ]
  },
  {
   "cell_type": "code",
   "execution_count": null,
   "metadata": {},
   "outputs": [],
   "source": [
    "grid_search.best_params_"
   ]
  },
  {
   "cell_type": "code",
   "execution_count": null,
   "metadata": {},
   "outputs": [],
   "source": [
    "grid_search_cv_results = pd.DataFrame(grid_search.cv_results_)\n",
    "grid_search_cv_results.plot(x=\"param_kneighborsclassifier__p\", y=\"mean_test_score\")\n",
    "grid_search_cv_results.plot(x=\"param_kneighborsclassifier__p\", y=\"std_test_score\")\n",
    "grid_search_cv_results.plot(x=\"param_kneighborsclassifier__p\", y=\"mean_fit_time\")\n",
    "\n",
    "print(grid_search_cv_results.columns)"
   ]
  },
  {
   "cell_type": "code",
   "execution_count": null,
   "metadata": {},
   "outputs": [],
   "source": [
    "model_name = \"03_y_test_predicted\"\n",
    "model_path = Path(f\"models/{model_name}.pkl\")\n",
    "\n",
    "if model_path.is_file():\n",
    "    y_test_predicted = joblib.load(model_path)\n",
    "else:\n",
    "    grid_search.best_estimator_.fit(X_train, y_train)\n",
    "    y_test_predicted = grid_search.predict(X_test)\n",
    "    joblib.dump(y_test_predicted, model_path)"
   ]
  },
  {
   "cell_type": "code",
   "execution_count": null,
   "metadata": {},
   "outputs": [],
   "source": [
    "print(\n",
    "    f\"accuracy_score: {accuracy_score(y_test, y_test_predicted)}\",\n",
    "    f\"precision_score: {precision_score(y_test, y_test_predicted, average='macro')}\",\n",
    "    f\"recall_score: {recall_score(y_test, y_test_predicted, average='macro')}\",\n",
    "    f\"f1_score: {f1_score(y_test, y_test_predicted, average='macro')}\",\n",
    "    sep=\"\\n\",\n",
    ")"
   ]
  },
  {
   "cell_type": "markdown",
   "metadata": {},
   "source": [
    "## 2. Data Augmentation"
   ]
  },
  {
   "cell_type": "code",
   "execution_count": null,
   "metadata": {},
   "outputs": [],
   "source": [
    "def shift(image_data, direction=(0, 0)):\n",
    "    image = image_data.reshape(28, 28)\n",
    "\n",
    "    if direction[0] > 0:\n",
    "        image = np.hstack(\n",
    "            (\n",
    "                np.zeros((28, abs(direction[0]))),\n",
    "                image[:, : -direction[0]],\n",
    "            )\n",
    "        )\n",
    "\n",
    "    elif direction[0] < 0:\n",
    "        image = np.hstack(\n",
    "            (\n",
    "                image[:, -direction[0] :],\n",
    "                np.zeros((28, abs(direction[0]))),\n",
    "            )\n",
    "        )\n",
    "\n",
    "    if direction[1] > 0:\n",
    "        image = np.vstack(\n",
    "            (\n",
    "                image[direction[1] :, :],\n",
    "                np.zeros((abs(direction[1]), 28)),\n",
    "            )\n",
    "        )\n",
    "\n",
    "    elif direction[1] < 0:\n",
    "        image = np.vstack(\n",
    "            (\n",
    "                np.zeros((abs(direction[1]), 28)),\n",
    "                image[: direction[1], :],\n",
    "            )\n",
    "        )\n",
    "\n",
    "    return image.reshape(784)\n",
    "\n",
    "\n",
    "plt.figure()\n",
    "\n",
    "plt.subplot(2, 2, 1)\n",
    "plot_digit(X_test[0])\n",
    "\n",
    "plt.subplot(2, 2, 2)\n",
    "plot_digit(shift(X_test[0], direction=(0, -3)))\n",
    "\n",
    "plt.subplot(2, 2, 3)\n",
    "plot_digit(shift(X_test[0], direction=(3, 0)))"
   ]
  },
  {
   "cell_type": "code",
   "execution_count": null,
   "metadata": {},
   "outputs": [],
   "source": [
    "X_train_augmented = [image for image in X_train]\n",
    "y_train_augmented = [label for label in y_train]\n",
    "\n",
    "for direction in [(-1, 0), (1, 0), (0, 1), (0, -1)]:\n",
    "    for image, label in zip(X_train, y_train):\n",
    "        X_train_augmented.append(shift(image, direction))\n",
    "        y_train_augmented.append(label)\n",
    "\n",
    "X_train_augmented = np.array(X_train_augmented)\n",
    "y_train_augmented = np.array(y_train_augmented)\n",
    "\n",
    "shuffle_idx = np.random.permutation(len(X_train_augmented))\n",
    "X_train_augmented = X_train_augmented[shuffle_idx]\n",
    "y_train_augmented = y_train_augmented[shuffle_idx]"
   ]
  },
  {
   "cell_type": "code",
   "execution_count": null,
   "metadata": {},
   "outputs": [],
   "source": [
    "model_name = \"03_y_test_predicted_augmented\"\n",
    "model_path = Path(f\"models/{model_name}.pkl\")\n",
    "\n",
    "if model_path.is_file():\n",
    "    y_test_predicted_aug = joblib.load(model_path)\n",
    "else:\n",
    "    grid_search.best_estimator_.fit(X_train_augmented, y_train_augmented)\n",
    "    y_test_predicted_aug = grid_search.predict(X_test)\n",
    "    joblib.dump(y_test_predicted, model_path)"
   ]
  },
  {
   "cell_type": "code",
   "execution_count": null,
   "metadata": {},
   "outputs": [],
   "source": [
    "print(\n",
    "    f\"accuracy_score: {accuracy_score(y_test, y_test_predicted_aug)}\",\n",
    "    f\"precision_score: {precision_score(y_test, y_test_predicted_aug, average='macro')}\",\n",
    "    f\"recall_score: {recall_score(y_test, y_test_predicted_aug, average='macro')}\",\n",
    "    f\"f1_score: {f1_score(y_test, y_test_predicted_aug, average='macro')}\",\n",
    "    sep=\"\\n\",\n",
    ")"
   ]
  },
  {
   "cell_type": "code",
   "execution_count": null,
   "metadata": {},
   "outputs": [],
   "source": [
    "print(\n",
    "    f\"Accuracy improvement: {(accuracy_score(y_test, y_test_predicted_aug) - accuracy_score(y_test, y_test_predicted)):.2%}\"\n",
    ")"
   ]
  },
  {
   "cell_type": "code",
   "execution_count": null,
   "metadata": {},
   "outputs": [],
   "source": [
    "error_rate_change = (1 - accuracy_score(y_test, y_test_predicted_aug)) / (\n",
    "    1 - accuracy_score(y_test, y_test_predicted)\n",
    ") - 1\n",
    "print(f\"error rate change: {error_rate_change:.0%}\")"
   ]
  }
 ],
 "metadata": {
  "kernelspec": {
   "display_name": "homl3",
   "language": "python",
   "name": "python3"
  },
  "language_info": {
   "codemirror_mode": {
    "name": "ipython",
    "version": 3
   },
   "file_extension": ".py",
   "mimetype": "text/x-python",
   "name": "python",
   "nbconvert_exporter": "python",
   "pygments_lexer": "ipython3",
   "version": "3.10.14"
  }
 },
 "nbformat": 4,
 "nbformat_minor": 2
}
